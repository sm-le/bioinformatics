{
 "cells": [
  {
   "cell_type": "code",
   "execution_count": 12,
   "metadata": {},
   "outputs": [],
   "source": [
    "with open(\"example_dataset/rosalind_tree.txt\",\"r\") as f:\n",
    "    # Use first row to generate all nodes\n",
    "    nodes = list(range(1,int(next(f))+1))\n",
    "    \n",
    "    edges = [set(edge.strip().split(\" \")) for edge in f]\n",
    "        \n"
   ]
  },
  {
   "cell_type": "code",
   "execution_count": 4,
   "metadata": {},
   "outputs": [],
   "source": [
    "def calculate_shift_value(pattern:str):\n",
    "    \"\"\"Calculate shift value for lightweight \n",
    "    pattern matching method\n",
    "\n",
    "    Args:\n",
    "        pattern: given nucleotide sequence\n",
    "    \n",
    "    Returns:\n",
    "        list(shift value of len(pattern))\n",
    "    \"\"\"\n",
    "    \n",
    "    shift_value = [0] * len(pattern)\n",
    "    idx_a = 1\n",
    "    idx_b = 0\n",
    "\n",
    "    while idx_a < len(pattern):\n",
    "        if pattern[idx_a] == pattern[idx_b]:\n",
    "            idx_b += 1\n",
    "            shift_value[idx_a] = idx_b\n",
    "            idx_a += 1\n",
    "        \n",
    "        elif idx_b != 0:\n",
    "            idx_b = shift_value[idx_b-1]\n",
    "        \n",
    "        else:\n",
    "            shift_value[idx_a] = 0\n",
    "            idx_a += 1\n",
    "\n",
    "    return shift_value\n",
    "\n",
    "def exact_pattern_matching(sequence:str, pattern:str, shift_value:list) -> list:\n",
    "    \"\"\"Calculate position where pattern matches exactly \n",
    "    to subject sequence\n",
    "\n",
    "    Args:\n",
    "        sequence: a subject sequence\n",
    "        pattern: a query pattern\n",
    "        shift_value: a list of shift value\n",
    "\n",
    "    Returns:\n",
    "        a list of matched positions\n",
    "    \n",
    "    \"\"\"\n",
    "\n",
    "    seq_idx = 0\n",
    "    pat_idx = 0\n",
    "\n",
    "    matched_position = list()\n",
    "\n",
    "    while seq_idx < len(sequence):\n",
    "        if pattern[pat_idx] == sequence[seq_idx]:\n",
    "            seq_idx += 1\n",
    "            pat_idx += 1\n",
    "        \n",
    "        if pat_idx == len(pattern):\n",
    "            matched_position.append(seq_idx-pat_idx)\n",
    "            pat_idx = shift_value[pat_idx-1]\n",
    "        \n",
    "        elif seq_idx < len(sequence) and pattern[pat_idx] != sequence[seq_idx]:\n",
    "            if pat_idx != 0:\n",
    "                pat_idx = shift_value[pat_idx-1]\n",
    "            else:\n",
    "                seq_idx += 1\n",
    "\n",
    "    return matched_position\n"
   ]
  },
  {
   "cell_type": "code",
   "execution_count": 74,
   "metadata": {},
   "outputs": [],
   "source": [
    "sequence = \"ACTCTAACTCACTCTAACTGA\"\n",
    "pattern = \"ACTCTAACTGA\"\n",
    "\n",
    "sequence = \"TGTCCTCAATGAGACCTAGGGCCAGTGCAGACTCTAAAGGTTGCATAGTCTGCTCTCTATCAGTCCTCAGTGAGACGTAGACCTAATGTAGACTCTAAAGTTTGCAAAGTCTGCTCTCTATCTCTCCTCAGTGAGACCTAGACCCAATGCAGACTCTAAAGGTTGCACAGTATGGTCTCTATCTGCCCTCAATGAGACCTAGGCCCAGTGCAGACTCTAAAGGTTTCACAGTCTGCTCTCTATCTTCCTCAATGAGACCTAGGCCCAATGCAGACTCTAAACGTTGCACAGTCTGCCCTCTATCTGTCCTCAATGAGACCTAGGCCCAATGCAGACTCTAAAGTTTGCACAGTCTGGTCTCTATCTGTCCTCAATGAGACCTAGGCCCAATGCCGACTCTAGAGGTTGCACAGTGTGCTCTCTATCTGCTCTCAATGAGACCTAGGCCCAATGCAGACTCTAAAGGTTGCACAGTCTGCTCTCTAACTGCCCTCAATGAGACCTAGGCCCAATGCAGACTCTAAAGTTTGCACAGTCTGTTCTCTATCTGTCCTCAATGAGACCTAGGCCAAGTGTAGACTCTAAAGCTTGCACAGTCTGCTCTCTATCTGACCTCAATGAGACCTAGGCCCAATGCAGACTATAAAGGTTCTACAGTCTGCTCTCTATCTGTCCTCAATGAGACCTAGGCCCAATGCAAACTCTAAAGGTTGCACACTCTGGTCTCTTTCTGTCCTCAATGAGACCTAGGCCAAATGCAGACTCTAAAGGTTGCACAGTCTECTCTCTAACTGTCCTCAATGAGACATAGGCCCAATGCAGACTCTAAAGGTTGCACAGTCTGCTCTCTATGTGTCCTCAATGAGACCTAGGCCCAGTGCAGACTCTCAAGGTTGCATAGTATGCTCTCTATCTGTCCTCAATAAGATCTAGGCCCAATGCAGACTCTAAGGGTTGCCGAGCCTGCTCTCTATCTGCCCTCAATGAGACCTAGGCCCAATGCAGACTCTAAAGGTTGCACAGTCCGCTCCCTATCTGTCCTCAATGAGATCTAGGCCCAATAGAGACTCTAAAGGTTGCACAGTCTGCTCTCTATCTGTCCTCAATGAGACCGAGGCTCTATGCAGACTCTAAAGGTTACACAGTGTGCTCTCTATCTGTCCTCAGTGAGACCTAGGCCCAATGCAGACTCTAAAGTTTGCGCAGTCTGCTCTCTATCTGTCCTCAATGAGACCTAGGGCCAGTGCAGACTCTAAAGGTTGCATAGTCTGCTCCTATCAGTCCTCAGTGAGACCTAGACCCAATGGAGACTCTAAAGTTTGCAAAGTCTGCTCTCTATCTCGCCTCAGTGAGACCTAGACCCAATGCAGACTCTAAAGGTTGCACAGTCTGGTCTCTATCTGCCCTCAATGAGACCTAGGCTCAGTGCAGACTTTAAAGTTTGCACAGTCTGCTCCGTATCTGTCCTCAATGAGACCTAGGTCCATTGCAGACTCTAAAGGTTGCACAGTCTGCCCTCTATCTGTCCTCAATGAGACCTAGGCCCAATGCAGCCTCTAAAGTTTCAACAGTCTGGTCTCTATCTGTCCTCAATGAGACCTAGGCCCAATGCCGACTCTAGAGGTTGCACAGTGTGCTCTCTATCTGCTCTCAATGAGACCTAGGCCCAATGCAGACTCTAAAGGTTGCACAGTCTGCTCTCTAACTGCCCTCAATGAGACCTAAGCCCAATGCAGACTCTAAAGGTTGTACAGTCTGGTCGCTATCTGTCCTCAATGAGACCCAGGCCCAATGCAGACTCTAAAGGTTGCACAGTCTGCTCTATATCTGTCCTCAATGAGACCTAGGACCAGTGCGGACTCTAATGGTTGCCTAGTGTGCTCTCTATCTGTCCTCAATGAGACCTAGGCCCAATGCAGACTCTAAAGGTTGCACAGTCCGGTCTCTATCTGTCCTCAATGAGACCTAGGCCCAATGCCGACTCTAAAGTTTGCACAGT\"\n",
    "pattern = \"TCTGGTCTCTTTCTGTCCTCAATGAGACCT\""
   ]
  },
  {
   "cell_type": "code",
   "execution_count": 75,
   "metadata": {},
   "outputs": [],
   "source": [
    "\n",
    "shift_value = calculate_shift_value(pattern)\n",
    "#exact_pattern_matching(sequence, pattern, shift_value)"
   ]
  },
  {
   "cell_type": "code",
   "execution_count": null,
   "metadata": {},
   "outputs": [],
   "source": [
    "def optimized_pattern_similarity():\n",
    "    pass\n",
    "\n",
    "fs = 0\n",
    "fp = 0\n",
    "seq_idx = 0\n",
    "pat_idx = 0\n",
    "error_count = 0\n",
    "error_threshold = 3\n",
    "\n",
    "matched_position = list()\n",
    "\n",
    "while seq_idx < len(sequence):\n",
    "    if pattern[pat_idx] == sequence[seq_idx]:\n",
    "        pat_idx += 1\n",
    "        seq_idx += 1\n",
    "    elif seq_idx < len(sequence) and pattern[pat_idx] != sequence[seq_idx]:\n",
    "        error_count += 1\n",
    "\n",
    "        if pat_idx == 0:\n",
    "            fs = seq_idx\n",
    "            fp = pat_idx\n",
    "\n",
    "        if error_count > error_threshold:\n",
    "            pat_idx = 0\n",
    "            seq_idx += 1\n",
    "            error_count = 0\n",
    "\n",
    "    if pat_idx == len(pattern):\n",
    "        matched_position.append(f\"Found at index: {seq_idx - pat_idx} with {error_count} mismatches\")\n",
    "        if error_count == 0:\n",
    "            pat_idx = shift_value[pat_idx-1]\n",
    "        else:\n",
    "            error_count = 0\n",
    "            seq_idx = fs\n",
    "            pat_idx = shift_value[fp-1]\n",
    " \n",
    "\n",
    "\n"
   ]
  },
  {
   "cell_type": "code",
   "execution_count": 56,
   "metadata": {},
   "outputs": [],
   "source": [
    "def optimized_pattern_similarity():\n",
    "    pass\n",
    "\n",
    "fs = 0\n",
    "fp = 0\n",
    "seq_idx = 0\n",
    "pat_idx = 0\n",
    "error_count = 0\n",
    "error_threshold = 3\n",
    "\n",
    "matched_position = list()\n",
    "\n",
    "while seq_idx < len(sequence):\n",
    "    #print(seq_idx, pat_idx, error_count)\n",
    "    if pattern[pat_idx] == sequence[seq_idx]:\n",
    "        pat_idx += 1\n",
    "        seq_idx += 1\n",
    "    elif seq_idx < len(sequence) and pattern[pat_idx] != sequence[seq_idx]:\n",
    "        if error_count == 0:\n",
    "            fs = seq_idx\n",
    "            fp = pat_idx\n",
    "        \n",
    "        error_count += 1\n",
    "\n",
    "        if error_count > error_threshold:\n",
    "            pat_idx = 0\n",
    "            seq_idx = fs + 1\n",
    "            error_count = 0\n",
    "\n",
    "    if pat_idx == len(pattern):\n",
    "        matched_position.append(f\"Found at index: {seq_idx - pat_idx} with {error_count} mismatches\")\n",
    "        if error_count == 0:\n",
    "            pat_idx = shift_value[pat_idx-1]\n",
    "        else:\n",
    "            error_count = 0\n",
    "            seq_idx = fs + 1\n",
    "            pat_idx = shift_value[fp-1]\n"
   ]
  },
  {
   "cell_type": "code",
   "execution_count": 57,
   "metadata": {},
   "outputs": [
    {
     "data": {
      "text/plain": [
       "['Found at index: 718 with 2 mismatches',\n",
       " 'Found at index: 718 with 1 mismatches']"
      ]
     },
     "execution_count": 57,
     "metadata": {},
     "output_type": "execute_result"
    }
   ],
   "source": [
    "matched_position"
   ]
  },
  {
   "cell_type": "code",
   "execution_count": null,
   "metadata": {},
   "outputs": [],
   "source": [
    "def optimized_pattern_similarity():\n",
    "    pass\n",
    "\n",
    "sequence = \"ATATACATATACACATACACACAC\"\n",
    "pattern = \"ATATAC\"\n",
    "\n",
    "shift_value = calculate_shift_value(pattern)\n",
    "\n",
    "fm_seq = 0\n",
    "fm_pat = 0\n",
    "seq_idx = 0\n",
    "pat_idx = 0\n",
    "error_count = 0\n",
    "error_threshold = 3\n",
    "\n",
    "matched_position = list()\n",
    "\n",
    "shift_value\n",
    "\n",
    "while seq_idx < len(sequence):\n",
    "    print(seq_idx, pat_idx, error_count, fm_seq, fm_pat)\n",
    "    if pattern[pat_idx] == sequence[seq_idx]:\n",
    "        pat_idx += 1\n",
    "        seq_idx += 1\n",
    "    \n",
    "    elif pattern[pat_idx] != sequence[seq_idx]:\n",
    "        if error_count == 0:\n",
    "            fm_seq = seq_idx + 1\n",
    "            fm_pat = pat_idx + 1\n",
    "\n",
    "        error_count += 1\n",
    "        pat_idx += 1\n",
    "        seq_idx += 1\n",
    "        \n",
    "        if error_count > error_threshold:\n",
    "            pat_idx = 0\n",
    "            seq_idx = fm_seq\n",
    "            error_count = 0\n",
    "        \n",
    "    if pat_idx == len(pattern):\n",
    "        matched_position.append(f\"Found at index: {seq_idx - pat_idx} with {error_count} mismatches\")\n",
    "\n",
    "        if error_count == 0:\n",
    "            pat_idx = shift_value[pat_idx-1]\n",
    "        \n",
    "        else:\n",
    "            error_count = 0\n",
    "            seq_idx = fm_seq\n",
    "            pat_idx = shift_value[fm_pat-1]\n"
   ]
  },
  {
   "cell_type": "code",
   "execution_count": 119,
   "metadata": {},
   "outputs": [
    {
     "name": "stdout",
     "output_type": "stream",
     "text": [
      "9 6 2 4 1\n",
      "11 6 2 10 5\n",
      "13 6 3 11 4\n"
     ]
    }
   ],
   "source": [
    "def optimized_pattern_similarity():\n",
    "    pass\n",
    "\n",
    "sequence = \"GGGGGATATGGGG\"\n",
    "pattern = \"ATATAT\"\n",
    "\n",
    "shift_value = calculate_shift_value(pattern)\n",
    "\n",
    "fm_seq = 0\n",
    "fm_pat = 0\n",
    "seq_idx = 0\n",
    "pat_idx = 0\n",
    "error_count = 0\n",
    "error_threshold = 3\n",
    "\n",
    "matched_position = list()\n",
    "\n",
    "shift_value\n",
    "\n",
    "while seq_idx < len(sequence):\n",
    "    print(seq_idx, pat_idx, error_count, fm_seq, fm_pat)\n",
    "    if pattern[pat_idx] == sequence[seq_idx]:\n",
    "        pat_idx += 1\n",
    "        seq_idx += 1\n",
    "    \n",
    "    elif pattern[pat_idx] != sequence[seq_idx]:\n",
    "        if error_count == 0:\n",
    "            fm_seq = seq_idx + 1\n",
    "            fm_pat = pat_idx + 1\n",
    "\n",
    "        error_count += 1\n",
    "        pat_idx += 1\n",
    "        seq_idx += 1\n",
    "\n",
    "        if error_count > error_threshold:\n",
    "            pat_idx = 0\n",
    "            seq_idx = fm_seq\n",
    "            error_count = 0\n",
    "\n",
    "    if pat_idx == len(pattern):\n",
    "        matched_position.append(f\"Found at index: {seq_idx - pat_idx} with {error_count} mismatches\")\n",
    "\n",
    "        if error_count == 0:\n",
    "            pat_idx = shift_value[pat_idx-1]\n",
    "        \n",
    "        else:\n",
    "            error_count = 0\n",
    "            seq_idx = fm_seq\n",
    "            pat_idx = shift_value[fm_pat-1]\n"
   ]
  },
  {
   "cell_type": "code",
   "execution_count": 120,
   "metadata": {},
   "outputs": [
    {
     "data": {
      "text/plain": [
       "['Found at index: 3 with 2 mismatches',\n",
       " 'Found at index: 5 with 2 mismatches',\n",
       " 'Found at index: 7 with 3 mismatches']"
      ]
     },
     "execution_count": 120,
     "metadata": {},
     "output_type": "execute_result"
    }
   ],
   "source": [
    "matched_position"
   ]
  },
  {
   "cell_type": "code",
   "execution_count": 118,
   "metadata": {},
   "outputs": [],
   "source": [
    "sequence = \"GGGGGATATGGGG\"\n",
    "pattern = \"ATATAT\""
   ]
  }
 ],
 "metadata": {
  "kernelspec": {
   "display_name": "iseedb",
   "language": "python",
   "name": "python3"
  },
  "language_info": {
   "codemirror_mode": {
    "name": "ipython",
    "version": 3
   },
   "file_extension": ".py",
   "mimetype": "text/x-python",
   "name": "python",
   "nbconvert_exporter": "python",
   "pygments_lexer": "ipython3",
   "version": "3.9.12"
  },
  "orig_nbformat": 4,
  "vscode": {
   "interpreter": {
    "hash": "21d06290302cd69ed802b9383af1daca2f488801cffed1dfd8a1ebf061173a7d"
   }
  }
 },
 "nbformat": 4,
 "nbformat_minor": 2
}
